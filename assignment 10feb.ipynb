{
 "cells": [
  {
   "cell_type": "code",
   "execution_count": 6,
   "id": "24f0ac13-dd26-4efb-9417-e91d1e0b3d2e",
   "metadata": {},
   "outputs": [],
   "source": [
    "#Question1:\n",
    "#Answer: \n",
    "\"\"\" 1. fopen is a function which is used to open a file.\"\"\"\n",
    "\"\"\" 2 . The two modes of opening a file is :\n",
    "         i) f = open(.....)\n",
    "         ii) with open(...) as f:\"\"\"\n",
    "#example of modes of opening of a file\n",
    "f = open(\"test.txt\" , \"w\")\n",
    "with open(\"test1.txt\" , \"w\") as f:\n",
    "    f.write(\"this the the assignment of feb10\")"
   ]
  },
  {
   "cell_type": "code",
   "execution_count": 32,
   "id": "7cd5929c-a73d-425e-ba3b-32db6b3727e5",
   "metadata": {},
   "outputs": [
    {
     "data": {
      "text/plain": [
       "' close function is used because your file may not show untill you close the file.'"
      ]
     },
     "execution_count": 32,
     "metadata": {},
     "output_type": "execute_result"
    }
   ],
   "source": [
    "#Question2:\n",
    "#Answer:\n",
    "f = open(\"assignment.txt\" , \"w\")\n",
    "f.write(\"i am telling you why close function is used\")\n",
    "f.close()\n",
    "\n",
    "\"\"\" close function is used because your file may not show untill you close the file.\"\"\""
   ]
  },
  {
   "cell_type": "code",
   "execution_count": 9,
   "id": "c2f97388-322d-4e65-ae7d-67f8a087ac77",
   "metadata": {},
   "outputs": [
    {
     "name": "stdout",
     "output_type": "stream",
     "text": [
      "I want to become a Data Scientist\n"
     ]
    }
   ],
   "source": [
    "#Question3:\n",
    "#Answer:\n",
    "with open(\"feb.txt\",\"w\") as f :\n",
    "    f.write(\"I want to become a Data Scientist\")\n",
    "with open(\"feb.txt\",\"r\") as f:\n",
    "    print(f.read())"
   ]
  },
  {
   "cell_type": "code",
   "execution_count": 27,
   "id": "31d63340-7c56-4a47-b835-242e17d834f1",
   "metadata": {},
   "outputs": [
    {
     "data": {
      "text/plain": [
       "\"A summary is a brief summarization of a larger work that gives the reader a comprehensive understanding. To write a summary, a writer will gather the main ideas of an article, essay, television show, or film they've read or watched and condense the central ideas into a brief overview\""
      ]
     },
     "execution_count": 27,
     "metadata": {},
     "output_type": "execute_result"
    }
   ],
   "source": [
    "#Question4:\n",
    "#Answer:\n",
    "\"\"\" 1. read() function is used for read the content in the file it may be bin,text,json,csv etc.\n",
    "    2. readline() reads one entire line from the file.\n",
    "    3. readlines() returns a list containing each line in the file as a list item\"\"\"\n",
    "#example of read() , readline() , readlines()\n",
    "f = open(\"exp.txt\",\"w\")\n",
    "f.write(\"A summary is a brief summarization of a larger work that gives the reader a comprehensive understanding. To write a summary, a writer will gather the main ideas of an article, essay, television show, or film they've read or watched and condense the central ideas into a brief overview\")\n",
    "f.close()\n",
    "f = open(\"exp.txt\",\"r\")\n",
    "f.read()"
   ]
  },
  {
   "cell_type": "code",
   "execution_count": 29,
   "id": "99aae3ad-8217-405d-a2d1-c51b7ff48487",
   "metadata": {},
   "outputs": [
    {
     "data": {
      "text/plain": [
       "'A summary is a brief summarizatio'"
      ]
     },
     "execution_count": 29,
     "metadata": {},
     "output_type": "execute_result"
    }
   ],
   "source": [
    "f = open(\"exp.txt\",\"r\")\n",
    "f.readline(33)"
   ]
  },
  {
   "cell_type": "code",
   "execution_count": 30,
   "id": "05203531-e4d5-4c5c-b635-70f5b971af96",
   "metadata": {},
   "outputs": [
    {
     "data": {
      "text/plain": [
       "[\"A summary is a brief summarization of a larger work that gives the reader a comprehensive understanding. To write a summary, a writer will gather the main ideas of an article, essay, television show, or film they've read or watched and condense the central ideas into a brief overview\"]"
      ]
     },
     "execution_count": 30,
     "metadata": {},
     "output_type": "execute_result"
    }
   ],
   "source": [
    "f = open(\"exp.txt\",\"r\")\n",
    "f.readlines(100)"
   ]
  },
  {
   "cell_type": "code",
   "execution_count": 34,
   "id": "42aaa9f4-5991-4fdd-9e16-03904654f3b7",
   "metadata": {},
   "outputs": [
    {
     "name": "stdout",
     "output_type": "stream",
     "text": [
      "this is the with open\n"
     ]
    },
    {
     "data": {
      "text/plain": [
       "'The with statement works with the open() function to open a file. Unlike open() where you have to close the file with the close() method, the with statement closes the file for you without you telling it to. This is because the with statement calls 2 built-in methods behind the scene – __enter()__ and __exit()__ .'"
      ]
     },
     "execution_count": 34,
     "metadata": {},
     "output_type": "execute_result"
    }
   ],
   "source": [
    "#Question5:\n",
    "#Answer:\n",
    "with open(\"first.txt\",\"w\") as f:\n",
    "    f.write(\"this is the with open\")\n",
    "with open(\"first.txt\",\"r\") as f:\n",
    "    print(f.read())\n",
    "    \n",
    "\"\"\"The with statement works with the open() function to open a file. Unlike open() where you have to close the file with the close() method, the with statement closes the file for you without you telling it to. This is because the with statement calls 2 built-in methods behind the scene – __enter()__ and __exit()__ .\"\"\""
   ]
  },
  {
   "cell_type": "code",
   "execution_count": 37,
   "id": "8ca880fe-7a42-429e-8295-0dd2da4eac9c",
   "metadata": {},
   "outputs": [],
   "source": [
    "#Question6:\n",
    "#Answer:\n",
    "\"\"\"the write() function is a built-in function that allows you to write data to a file.\"\"\"\n",
    "\"\"\"The writelines() function is used to write a single or list of strings simultaneously to a file.\"\"\"\n",
    "f = open(\"writting.txt\" , \"w\")\n",
    "f.write(\"hey i am using write function,\")\n",
    "f.close()"
   ]
  },
  {
   "cell_type": "code",
   "execution_count": 38,
   "id": "ec46e24b-87af-4d6b-8b1b-5f7a4773176f",
   "metadata": {},
   "outputs": [],
   "source": [
    "f = open(\"writting.txt\" , \"w\")\n",
    "f.writelines([\"assignment\",\"10th\",\"february\"])\n",
    "f.close()"
   ]
  },
  {
   "cell_type": "code",
   "execution_count": null,
   "id": "6e525542-531e-4506-a7a5-57c47923d049",
   "metadata": {},
   "outputs": [],
   "source": []
  }
 ],
 "metadata": {
  "kernelspec": {
   "display_name": "Python 3 (ipykernel)",
   "language": "python",
   "name": "python3"
  },
  "language_info": {
   "codemirror_mode": {
    "name": "ipython",
    "version": 3
   },
   "file_extension": ".py",
   "mimetype": "text/x-python",
   "name": "python",
   "nbconvert_exporter": "python",
   "pygments_lexer": "ipython3",
   "version": "3.10.6"
  }
 },
 "nbformat": 4,
 "nbformat_minor": 5
}
